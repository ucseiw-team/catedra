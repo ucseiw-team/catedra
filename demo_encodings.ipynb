{
 "cells": [
  {
   "cell_type": "code",
   "execution_count": null,
   "metadata": {
    "slideshow": {
     "slide_type": "subslide"
    }
   },
   "outputs": [],
   "source": [
    "texto = \"Ñandú cósmico\""
   ]
  },
  {
   "cell_type": "code",
   "execution_count": null,
   "metadata": {
    "slideshow": {
     "slide_type": "subslide"
    }
   },
   "outputs": [],
   "source": [
    "bytes_utf8 = texto.encode('utf-8')\n",
    "bytes_utf16 = texto.encode('utf-16')\n",
    "bytes_cp1252 = texto.encode('cp1252')\n",
    "\n",
    "print(len(texto))\n",
    "print(len(bytes_utf8))\n",
    "print(len(bytes_utf16))\n",
    "print(len(bytes_cp1252))\n",
    "\n",
    "print(bytes_utf8)"
   ]
  },
  {
   "cell_type": "code",
   "execution_count": null,
   "metadata": {
    "slideshow": {
     "slide_type": "subslide"
    }
   },
   "outputs": [],
   "source": [
    "bytes_ascii = texto.encode('ascii')"
   ]
  },
  {
   "cell_type": "code",
   "execution_count": null,
   "metadata": {
    "slideshow": {
     "slide_type": "subslide"
    }
   },
   "outputs": [],
   "source": [
    "print(\"bien decodificado:\", bytes_utf8.decode('utf-8'))"
   ]
  },
  {
   "cell_type": "code",
   "execution_count": null,
   "metadata": {
    "scrolled": true,
    "slideshow": {
     "slide_type": "subslide"
    }
   },
   "outputs": [],
   "source": [
    "print(\"mal decodificado:\", bytes_utf8.decode('cp1252'))\n",
    "print(\"mal decodificado:\", bytes_utf8.decode('utf-16'))\n",
    "print(\"mal decodificado:\", bytes_utf8.decode('ascii'))"
   ]
  },
  {
   "cell_type": "code",
   "execution_count": null,
   "metadata": {
    "slideshow": {
     "slide_type": "subslide"
    }
   },
   "outputs": [],
   "source": [
    "import requests\n",
    "\n",
    "# 1. leemos bytes, y los decodificamos\n",
    "pagina_leida = requests.get('https://celestrak.com/satcat/tle.php?CATNR=46829')\n",
    "contenido = pagina_leida.content.decode('ascii')\n",
    "\n",
    "\n",
    "\n",
    "# 2. todo el trabajo de manipular texto lo hacemos con unicodes...\n",
    "contenido_modificado = contenido.upper().replace('NUSAT', 'ÑUSAT')\n",
    "\n",
    "\n",
    "\n",
    "# vuelvemos a encodear al guardar data\n",
    "datos_salida_en_bytes = contenido_modificado.encode('utf-8')  # a la db, una request, un archivo, etc"
   ]
  },
  {
   "cell_type": "code",
   "execution_count": null,
   "metadata": {
    "slideshow": {
     "slide_type": "subslide"
    }
   },
   "outputs": [],
   "source": [
    "# ej: al abrir archivos en python, definir el encoding y solo nos decodea y encodea\n",
    "\n",
    "# 1. leemos bytes y decodificamos\n",
    "with open('un_archivo.txt', 'r', encoding='utf-8') as archivo_entrada:\n",
    "    nombre = archivo_entrada.read()  # nos da unicodes! decodea solo\n",
    "    \n",
    "print(nombre)\n",
    "    "
   ]
  },
  {
   "cell_type": "code",
   "execution_count": null,
   "metadata": {
    "slideshow": {
     "slide_type": "subslide"
    }
   },
   "outputs": [],
   "source": [
    "# 2. trabajamos con unicodes\n",
    "nombre = nombre.upper().replace('\\n', '') + ' es un ñandú'\n",
    "print(nombre)"
   ]
  },
  {
   "cell_type": "code",
   "execution_count": null,
   "metadata": {
    "scrolled": true,
    "slideshow": {
     "slide_type": "subslide"
    }
   },
   "outputs": [],
   "source": [
    "# 3. volvemos a encodear al guardar\n",
    "with open('otro_archivo.txt', 'w', encoding='cp1252') as archivo_salida:\n",
    "    archivo_salida.write(nombre)  # le pasamos unicodes y nos encodea solo!"
   ]
  },
  {
   "cell_type": "code",
   "execution_count": null,
   "metadata": {},
   "outputs": [],
   "source": [
    "!pip install chardet"
   ]
  },
  {
   "cell_type": "code",
   "execution_count": null,
   "metadata": {
    "scrolled": true,
    "slideshow": {
     "slide_type": "subslide"
    }
   },
   "outputs": [],
   "source": [
    "from chardet import detect\n",
    "\n",
    "print(detect(bytes_utf8))\n",
    "print(detect(bytes_utf16))\n",
    "print(detect(bytes_cp1252))"
   ]
  },
  {
   "cell_type": "code",
   "execution_count": null,
   "metadata": {},
   "outputs": [],
   "source": [
    "texto2 = \"hola\"\n",
    "\n",
    "bytes_utf8_2 = texto2.encode(\"utf-8\")\n",
    "bytes_ascii_2 = texto2.encode(\"ascii\")\n",
    "\n",
    "bytes_utf8_2 == bytes_ascii_2"
   ]
  },
  {
   "cell_type": "code",
   "execution_count": null,
   "metadata": {},
   "outputs": [],
   "source": [
    "detect(bytes_utf8_2)"
   ]
  }
 ],
 "metadata": {
  "celltoolbar": "Slideshow",
  "kernelspec": {
   "display_name": "Python 3 (ipykernel)",
   "language": "python",
   "name": "python3"
  },
  "language_info": {
   "codemirror_mode": {
    "name": "ipython",
    "version": 3
   },
   "file_extension": ".py",
   "mimetype": "text/x-python",
   "name": "python",
   "nbconvert_exporter": "python",
   "pygments_lexer": "ipython3",
   "version": "3.8.10"
  }
 },
 "nbformat": 4,
 "nbformat_minor": 2
}
