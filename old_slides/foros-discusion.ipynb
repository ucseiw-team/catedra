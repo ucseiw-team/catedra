{
 "cells": [
  {
   "cell_type": "markdown",
   "metadata": {
    "slideshow": {
     "slide_type": "slide"
    }
   },
   "source": [
    "Foros de discusión\n",
    "================\n",
    "\n",
    "Ingeniería Web, 2019"
   ]
  },
  {
   "cell_type": "markdown",
   "metadata": {
    "slideshow": {
     "slide_type": "subslide"
    }
   },
   "source": [
    "Qué tiene de especial la web?\n",
    "========================\n",
    "\n",
    "Comparada con los viejos medios de comunicación y formas de distribución de contenido (TV, radio, libros, teléfono, etc), qué tiene de especial la web?"
   ]
  },
  {
   "cell_type": "markdown",
   "metadata": {
    "slideshow": {
     "slide_type": "fragment"
    }
   },
   "source": [
    "- Combina **contenido** con **discusión** en un mismo medio.\n",
    "- Permite discusión de a **muchas personas** juntas.\n",
    "\n",
    "Ej: En el mismo lugar que vemos un documental, podemos discutir con miles de desconocidos sobre qué opinamos del documental."
   ]
  },
  {
   "cell_type": "markdown",
   "metadata": {
    "slideshow": {
     "slide_type": "subslide"
    }
   },
   "source": [
    "Formas de discusión online\n",
    "=======================\n",
    "\n",
    "Y no existe una sola forma de organiar esa discusión."
   ]
  },
  {
   "cell_type": "markdown",
   "metadata": {
    "slideshow": {
     "slide_type": "fragment"
    }
   },
   "source": [
    "Foros online, salas de chat y similares (grupos de whatsapp, etc), grupos de mail, redes sociales en torno a contenido con comentarios (youtube, facebook, blogs, etc), tweets y similares, comunidades de preguntas y respuestas (stack overflow, yahoo respuestas, quora), ..."
   ]
  },
  {
   "cell_type": "markdown",
   "metadata": {
    "slideshow": {
     "slide_type": "subslide"
    }
   },
   "source": [
    "Tomemos un modo: foros online (ej: http://www.fioredeiliberi.org/phpBB3/ ).\n",
    "\n",
    "Puede un foro ser una comunidad online sustentable?"
   ]
  },
  {
   "cell_type": "markdown",
   "metadata": {
    "slideshow": {
     "slide_type": "fragment"
    }
   },
   "source": [
    "1. contenido atractivo\n",
    "2. medios de colaboración\n",
    "3. navegación y búsqueda\n",
    "4. delegación de la moderación\n",
    "5. detección de usuarios molestos\n",
    "6. extensibilidad del software"
   ]
  },
  {
   "cell_type": "markdown",
   "metadata": {
    "slideshow": {
     "slide_type": "subslide"
    }
   },
   "source": [
    "**Sí**, un foro de discusión puede ser suficiente como comunidad online y ser sustentable.\n",
    "\n",
    "Por qué no usamos foros para todo entonces?"
   ]
  },
  {
   "cell_type": "markdown",
   "metadata": {
    "slideshow": {
     "slide_type": "fragment"
    }
   },
   "source": [
    "Apps o comunidades específicas pueden proveer mejores features, organización de la información, ayudar a generar, encontrar o compartir el contenido, etc."
   ]
  },
  {
   "cell_type": "markdown",
   "metadata": {
    "slideshow": {
     "slide_type": "subslide"
    }
   },
   "source": [
    "Organización de la discusión\n",
    "=======================\n",
    "\n"
   ]
  },
  {
   "cell_type": "markdown",
   "metadata": {
    "slideshow": {
     "slide_type": "fragment"
    }
   },
   "source": [
    "Agrupamos la discusión en un único foro, o múltiples foros separados? (por ejemplo: categorías, regiones, grupos privados, etc)"
   ]
  },
  {
   "cell_type": "markdown",
   "metadata": {
    "slideshow": {
     "slide_type": "fragment"
    }
   },
   "source": [
    "- Muy poca separación: mucho ruido, difícil filtrar y encontrar lo que interesa, la gente se agota y deja de entrar.\n",
    "- Demasiada separación: de vuelta difícil encontrar lo que interesa, puede haber poco movimiento en cada sub foro, sensación de desierto/poca actividad y la gente deja de entrar."
   ]
  },
  {
   "cell_type": "markdown",
   "metadata": {
    "slideshow": {
     "slide_type": "fragment"
    }
   },
   "source": [
    "Combinar ambos enfoques? (sub foros, pero secciones que agrupan. Ej: reddit, slashdot)"
   ]
  },
  {
   "cell_type": "markdown",
   "metadata": {
    "slideshow": {
     "slide_type": "subslide"
    }
   },
   "source": [
    "Discusión en comunidades de aprendizaje\n",
    "===================================\n",
    "\n"
   ]
  },
  {
   "cell_type": "markdown",
   "metadata": {
    "slideshow": {
     "slide_type": "fragment"
    }
   },
   "source": [
    "Si los usuarios buscan aprender de un tema, hay cosas específicas que podemos hacer para mejorar la discusión:"
   ]
  },
  {
   "cell_type": "markdown",
   "metadata": {
    "slideshow": {
     "slide_type": "fragment"
    }
   },
   "source": [
    "* Algún tipo de mediación entre novatos y expertos (ej: Team Fortres 2, PyAr con Adopta un Newbie) -> que quien quiere aprender tenga atención \"personalizada\"\n",
    "* Que la gente pueda indicar si obtuvo o no respuesta (stack overflow, foros msdn) -> facilitar encontrar respuestas a preguntas ya hechas, fomentar menos preguntas duplicadas\n",
    "* Recordar a los mentores sobre mentados -> fomentar ayuda\n",
    "* Algún tipo de puntaje a los mentores, karma, etc. -> fomentar ayuda"
   ]
  },
  {
   "cell_type": "markdown",
   "metadata": {
    "slideshow": {
     "slide_type": "subslide"
    }
   },
   "source": [
    "Pruebas de usabilidad\n",
    "==================\n",
    "\n",
    "(Tema general, no solo referido a discusión.)"
   ]
  },
  {
   "cell_type": "markdown",
   "metadata": {
    "slideshow": {
     "slide_type": "fragment"
    }
   },
   "source": [
    "Cómo sabemos si las decisiones que tomamos sirven para los usuarios?\n",
    "\n",
    "Pueden encontrar la información? Les es fácil cargar una pregunta? O saber si ya les respondieron? Saben cómo navegar las secciones que armamos? etc."
   ]
  },
  {
   "cell_type": "markdown",
   "metadata": {
    "slideshow": {
     "slide_type": "subslide"
    }
   },
   "source": [
    "\"Pruebo el sitio y me fijo yo mismo\""
   ]
  },
  {
   "cell_type": "markdown",
   "metadata": {
    "slideshow": {
     "slide_type": "fragment"
    }
   },
   "source": [
    "**No.**"
   ]
  },
  {
   "cell_type": "markdown",
   "metadata": {
    "slideshow": {
     "slide_type": "fragment"
    }
   },
   "source": [
    "* Dificultad para ver los propios bugs. Hacemos las cosas como nosotros esperamos que la gente vaya a hacerlas, y con eso evitamos los lugares rotos inconscientemente.\n",
    "* Los usuarios tienen cada vez menos habilidad técnica a la vez que las aplicaciones son mucho más complejas\n",
    "  (1995: programadores viendo HTML pelado. 2020: chicos usando apps de reconocimiento facial).\n",
    "* Muchos clicks hacen perder usuarios (~50% por click se va). Pero nosotros probando no vamos a \"abandonar\"."
   ]
  },
  {
   "cell_type": "markdown",
   "metadata": {
    "slideshow": {
     "slide_type": "subslide"
    }
   },
   "source": [
    "**Pruebas de usabilidad!**"
   ]
  },
  {
   "cell_type": "markdown",
   "metadata": {
    "slideshow": {
     "slide_type": "fragment"
    }
   },
   "source": [
    "* Con un usuario parecido a uno real, en lugar cómodo.\n",
    "* Le damos una lista de cosas para hacer en el sitio, y **NO** lo ayudamos.\n",
    "* Observamos cómo lo hace.\n",
    "* Entre sujeto y sujeto podemos ir haciendo correcciones si hay problemas muy evidentes (en caso contrario no es bueno)."
   ]
  },
  {
   "cell_type": "markdown",
   "metadata": {
    "slideshow": {
     "slide_type": "subslide"
    }
   },
   "source": [
    "**A/B Testing!**"
   ]
  },
  {
   "cell_type": "markdown",
   "metadata": {
    "slideshow": {
     "slide_type": "fragment"
    }
   },
   "source": [
    "* Programamos dos soluciones nuevas y diferentes para un problema (A y B).\n",
    "* En producción a un % de usuarios reales: les mostramos de forma aleatoria una u otra versión de la UI nueva.\n",
    "* **Medimos** impacto de alguna manera (retención, tiempo para resolver la necesidad, % de compra, etc).\n",
    "* Super importante medir en los tres casos: antes, A y B."
   ]
  },
  {
   "cell_type": "markdown",
   "metadata": {
    "slideshow": {
     "slide_type": "subslide"
    }
   },
   "source": [
    "Y además: **estudiar** lo que hacen los sitios populares, que la gente termina usando.\n",
    "\n",
    "Tenemos muchas ideas, pero pocas acertadas."
   ]
  }
 ],
 "metadata": {
  "celltoolbar": "Slideshow",
  "kernelspec": {
   "display_name": "Python 3",
   "language": "python",
   "name": "python3"
  },
  "language_info": {
   "codemirror_mode": {
    "name": "ipython",
    "version": 3
   },
   "file_extension": ".py",
   "mimetype": "text/x-python",
   "name": "python",
   "nbconvert_exporter": "python",
   "pygments_lexer": "ipython3",
   "version": "3.7.3"
  }
 },
 "nbformat": 4,
 "nbformat_minor": 2
}
