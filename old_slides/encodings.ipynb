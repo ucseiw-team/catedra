{
 "cells": [
  {
   "cell_type": "markdown",
   "metadata": {
    "slideshow": {
     "slide_type": "slide"
    }
   },
   "source": [
    "Unicode y encodings\n",
    "=================\n",
    "\n",
    "Ingeniería Web, 2020"
   ]
  },
  {
   "cell_type": "markdown",
   "metadata": {
    "slideshow": {
     "slide_type": "subslide"
    }
   },
   "source": [
    "Qué es un archivo de texto?\n",
    "======================="
   ]
  },
  {
   "cell_type": "markdown",
   "metadata": {
    "slideshow": {
     "slide_type": "fragment"
    }
   },
   "source": [
    "**No** existe un estándar para \"archivo de texto plano\". Si no nunca veríamos caracteres rotos."
   ]
  },
  {
   "cell_type": "markdown",
   "metadata": {
    "slideshow": {
     "slide_type": "fragment"
    }
   },
   "source": [
    "Cuando se rompen decimos rápido: \"problema de encodings\".\n",
    "\n",
    "Pero si alguien pregunta \"qué son los encodings?\"... pocos saben explicarlo."
   ]
  },
  {
   "cell_type": "markdown",
   "metadata": {
    "slideshow": {
     "slide_type": "fragment"
    }
   },
   "source": [
    "**Mucha** desinformación y mitos. Incluso en tutoriales y videos!!!"
   ]
  },
  {
   "cell_type": "markdown",
   "metadata": {
    "slideshow": {
     "slide_type": "subslide"
    }
   },
   "source": [
    "Historia de encodings\n",
    "================="
   ]
  },
  {
   "cell_type": "markdown",
   "metadata": {
    "slideshow": {
     "slide_type": "fragment"
    }
   },
   "source": [
    "Las computadoras no saben de letras. Los humanos saben de letras (caracteres).\n",
    "\n",
    "Todo texto en última instancia se guarda y transmite como bytes."
   ]
  },
  {
   "cell_type": "markdown",
   "metadata": {
    "slideshow": {
     "slide_type": "fragment"
    }
   },
   "source": [
    "Hizo falta definir cómo guardar texto en bytes."
   ]
  },
  {
   "cell_type": "markdown",
   "metadata": {
    "slideshow": {
     "slide_type": "subslide"
    }
   },
   "source": [
    "Alguien dijo \"que la A sea 1000001, que la B sea 1000010, ...\"."
   ]
  },
  {
   "cell_type": "markdown",
   "metadata": {
    "slideshow": {
     "slide_type": "fragment"
    }
   },
   "source": [
    "... pero muchos alguienes eligieron formas diferentes de hacer esto mismo..."
   ]
  },
  {
   "cell_type": "markdown",
   "metadata": {
    "slideshow": {
     "slide_type": "fragment"
    }
   },
   "source": [
    "... y ni siquiera con el mismo conjunto de caracteres!! (chino vs occidental vs ...)"
   ]
  },
  {
   "cell_type": "markdown",
   "metadata": {
    "slideshow": {
     "slide_type": "subslide"
    }
   },
   "source": [
    "Encodings\n",
    "========="
   ]
  },
  {
   "cell_type": "markdown",
   "metadata": {
    "slideshow": {
     "slide_type": "fragment"
    }
   },
   "source": [
    "Ej: ASCII\n",
    "\n",
    "![](./ascii_table_black.png)"
   ]
  },
  {
   "cell_type": "markdown",
   "metadata": {
    "slideshow": {
     "slide_type": "subslide"
    }
   },
   "source": [
    "Unicode\n",
    "======="
   ]
  },
  {
   "cell_type": "markdown",
   "metadata": {
    "slideshow": {
     "slide_type": "fragment"
    }
   },
   "source": [
    "\"Unicode es un encoding\""
   ]
  },
  {
   "cell_type": "markdown",
   "metadata": {
    "slideshow": {
     "slide_type": "subslide"
    }
   },
   "source": [
    "![](./no.jpg)"
   ]
  },
  {
   "cell_type": "markdown",
   "metadata": {
    "slideshow": {
     "slide_type": "subslide"
    }
   },
   "source": [
    "Unicode\n",
    "======="
   ]
  },
  {
   "cell_type": "markdown",
   "metadata": {
    "slideshow": {
     "slide_type": "fragment"
    }
   },
   "source": [
    "En un punto, un grupo de gente/empresas decidió estandarizar la lista de caracteres existentes.\n",
    "\n",
    "Unicode es el resultado de eso: **es un estándar que define una gran lista de caracteres**, con id, nombre, dibujito, reglas de mayúscula/minúscula, y más de data de cada caracter."
   ]
  },
  {
   "cell_type": "markdown",
   "metadata": {
    "slideshow": {
     "slide_type": "fragment"
    }
   },
   "source": [
    "Ej: Unicode \"Greek Small Letter Pi\" https://www.compart.com/en/unicode/U+03C0"
   ]
  },
  {
   "cell_type": "markdown",
   "metadata": {
    "slideshow": {
     "slide_type": "fragment"
    }
   },
   "source": [
    "Unicode en si mismo **NO** dice cómo representar cada caracter en bytes. (el id NO es eso!)"
   ]
  },
  {
   "cell_type": "markdown",
   "metadata": {
    "slideshow": {
     "slide_type": "subslide"
    }
   },
   "source": [
    "Unicode vs encodings\n",
    "=================="
   ]
  },
  {
   "cell_type": "markdown",
   "metadata": {
    "slideshow": {
     "slide_type": "fragment"
    }
   },
   "source": [
    "Hoy en día, **un encoding es una tabla que dice cómo representar en bytes, cada caracter de Unicode**.\n",
    "\n",
    "Ej: \"El caracter U+03C0 de Unicode (la letra Pi), se representa con 1100111110000000, ...\""
   ]
  },
  {
   "cell_type": "markdown",
   "metadata": {
    "slideshow": {
     "slide_type": "fragment"
    }
   },
   "source": [
    "Podemos entonces **convertir entre Unicode y bytes, usando los encodings**:\n",
    "\n",
    "- **Encodeamos** cuando agarramos unicodes y los convertimos a bytes\n",
    "- **Decodificamos** cuando agarramos bytes y los convertimos a unicodes"
   ]
  },
  {
   "cell_type": "markdown",
   "metadata": {
    "slideshow": {
     "slide_type": "subslide"
    }
   },
   "source": [
    "![](./encodear_decodear.png)"
   ]
  },
  {
   "cell_type": "markdown",
   "metadata": {
    "slideshow": {
     "slide_type": "fragment"
    }
   },
   "source": [
    "(imagen de Facundo Batista)"
   ]
  },
  {
   "cell_type": "markdown",
   "metadata": {
    "slideshow": {
     "slide_type": "subslide"
    }
   },
   "source": [
    "Encodings incompletos\n",
    "========="
   ]
  },
  {
   "cell_type": "markdown",
   "metadata": {
    "slideshow": {
     "slide_type": "fragment"
    }
   },
   "source": [
    "Unicode admite más de un millón de caracteres. Todavía no completo, se van agregando cada tanto.\n",
    "\n",
    "Los encodings viejos fueron definidos solo para algunos caracteres. Ej: ASCII tiene 128 caracteres, y no se le pueden agregar más.\n",
    "\n",
    "Algunos encodings más nuevos tampoco incluyen todo unicode."
   ]
  },
  {
   "cell_type": "markdown",
   "metadata": {
    "slideshow": {
     "slide_type": "subslide"
    }
   },
   "source": [
    "Solución?\n",
    "========="
   ]
  },
  {
   "cell_type": "markdown",
   "metadata": {
    "slideshow": {
     "slide_type": "fragment"
    }
   },
   "source": [
    "Usar un mejor encoding.\n",
    "\n",
    "Los UTF-N son los encodings definidos por el grupo Unicode mismo, y cubren **todo** Unicode, entero. UTF-8 es el más usado en occidente (óptimo para nuestros caracteres, usa menos bytes)"
   ]
  },
  {
   "cell_type": "markdown",
   "metadata": {
    "slideshow": {
     "slide_type": "subslide"
    }
   },
   "source": [
    "Programación y encodings\n",
    "======================"
   ]
  },
  {
   "cell_type": "markdown",
   "metadata": {
    "slideshow": {
     "slide_type": "fragment"
    }
   },
   "source": [
    "Nuestros programas quieren lidiar con texto. Y el texto idealmente se manipula como una secuencia de caracteres Unicode, no como bytes.\n",
    "\n",
    "Pero vamos a necesitar convertir y desconvertir ese texto a bytes."
   ]
  },
  {
   "cell_type": "markdown",
   "metadata": {
    "slideshow": {
     "slide_type": "fragment"
    }
   },
   "source": [
    "Todos los lenguajes tienen herramientas para encodear y decodificar texto. Ejemplo con python, pero es muy similar en todos:"
   ]
  },
  {
   "cell_type": "code",
   "execution_count": 3,
   "metadata": {
    "slideshow": {
     "slide_type": "subslide"
    }
   },
   "outputs": [
    {
     "name": "stdout",
     "output_type": "stream",
     "text": [
      "13\n",
      "16\n",
      "28\n",
      "13\n",
      "b'\\xc3\\x91and\\xc3\\xba c\\xc3\\xb3smico'\n"
     ]
    }
   ],
   "source": [
    "texto = \"Ñandú cósmico\"\n",
    "\n",
    "bytes_utf8 = texto.encode('utf-8')\n",
    "bytes_utf16 = texto.encode('utf-16')\n",
    "bytes_cp1252 = texto.encode('cp1252')\n",
    "\n",
    "print(len(texto))\n",
    "print(len(bytes_utf8))\n",
    "print(len(bytes_utf16))\n",
    "print(len(bytes_cp1252))\n",
    "\n",
    "print(bytes_utf8)"
   ]
  },
  {
   "cell_type": "code",
   "execution_count": 5,
   "metadata": {
    "slideshow": {
     "slide_type": "subslide"
    }
   },
   "outputs": [
    {
     "ename": "UnicodeEncodeError",
     "evalue": "'ascii' codec can't encode character '\\xd1' in position 0: ordinal not in range(128)",
     "output_type": "error",
     "traceback": [
      "\u001b[0;31m---------------------------------------------------------------------------\u001b[0m",
      "\u001b[0;31mUnicodeEncodeError\u001b[0m                        Traceback (most recent call last)",
      "\u001b[0;32m<ipython-input-5-d9e37c1f306a>\u001b[0m in \u001b[0;36m<module>\u001b[0;34m\u001b[0m\n\u001b[0;32m----> 1\u001b[0;31m \u001b[0mbytes_ascii\u001b[0m \u001b[0;34m=\u001b[0m \u001b[0mtexto\u001b[0m\u001b[0;34m.\u001b[0m\u001b[0mencode\u001b[0m\u001b[0;34m(\u001b[0m\u001b[0;34m'ascii'\u001b[0m\u001b[0;34m)\u001b[0m\u001b[0;34m\u001b[0m\u001b[0;34m\u001b[0m\u001b[0m\n\u001b[0m",
      "\u001b[0;31mUnicodeEncodeError\u001b[0m: 'ascii' codec can't encode character '\\xd1' in position 0: ordinal not in range(128)"
     ]
    }
   ],
   "source": [
    "bytes_ascii = texto.encode('ascii')"
   ]
  },
  {
   "cell_type": "code",
   "execution_count": 9,
   "metadata": {
    "scrolled": true,
    "slideshow": {
     "slide_type": "fragment"
    }
   },
   "outputs": [
    {
     "name": "stdout",
     "output_type": "stream",
     "text": [
      "bien decodificado: Ñandú cósmico\n",
      "mal decodificado: Ã‘andÃº cÃ³smico\n",
      "mal decodificado: 釃湡썤₺썣玳業潣\n"
     ]
    },
    {
     "ename": "UnicodeDecodeError",
     "evalue": "'ascii' codec can't decode byte 0xc3 in position 0: ordinal not in range(128)",
     "output_type": "error",
     "traceback": [
      "\u001b[0;31m---------------------------------------------------------------------------\u001b[0m",
      "\u001b[0;31mUnicodeDecodeError\u001b[0m                        Traceback (most recent call last)",
      "\u001b[0;32m<ipython-input-9-66fdfd8216a5>\u001b[0m in \u001b[0;36m<module>\u001b[0;34m\u001b[0m\n\u001b[1;32m      2\u001b[0m \u001b[0mprint\u001b[0m\u001b[0;34m(\u001b[0m\u001b[0;34m\"mal decodificado:\"\u001b[0m\u001b[0;34m,\u001b[0m \u001b[0mbytes_utf8\u001b[0m\u001b[0;34m.\u001b[0m\u001b[0mdecode\u001b[0m\u001b[0;34m(\u001b[0m\u001b[0;34m'cp1252'\u001b[0m\u001b[0;34m)\u001b[0m\u001b[0;34m)\u001b[0m\u001b[0;34m\u001b[0m\u001b[0;34m\u001b[0m\u001b[0m\n\u001b[1;32m      3\u001b[0m \u001b[0mprint\u001b[0m\u001b[0;34m(\u001b[0m\u001b[0;34m\"mal decodificado:\"\u001b[0m\u001b[0;34m,\u001b[0m \u001b[0mbytes_utf8\u001b[0m\u001b[0;34m.\u001b[0m\u001b[0mdecode\u001b[0m\u001b[0;34m(\u001b[0m\u001b[0;34m'utf-16'\u001b[0m\u001b[0;34m)\u001b[0m\u001b[0;34m)\u001b[0m\u001b[0;34m\u001b[0m\u001b[0;34m\u001b[0m\u001b[0m\n\u001b[0;32m----> 4\u001b[0;31m \u001b[0mprint\u001b[0m\u001b[0;34m(\u001b[0m\u001b[0;34m\"mal decodificado:\"\u001b[0m\u001b[0;34m,\u001b[0m \u001b[0mbytes_utf8\u001b[0m\u001b[0;34m.\u001b[0m\u001b[0mdecode\u001b[0m\u001b[0;34m(\u001b[0m\u001b[0;34m'ascii'\u001b[0m\u001b[0;34m)\u001b[0m\u001b[0;34m)\u001b[0m\u001b[0;34m\u001b[0m\u001b[0;34m\u001b[0m\u001b[0m\n\u001b[0m",
      "\u001b[0;31mUnicodeDecodeError\u001b[0m: 'ascii' codec can't decode byte 0xc3 in position 0: ordinal not in range(128)"
     ]
    }
   ],
   "source": [
    "print(\"bien decodificado:\", bytes_utf8.decode('utf-8'))\n",
    "print(\"mal decodificado:\", bytes_utf8.decode('cp1252'))\n",
    "print(\"mal decodificado:\", bytes_utf8.decode('utf-16'))\n",
    "print(\"mal decodificado:\", bytes_utf8.decode('ascii'))"
   ]
  },
  {
   "cell_type": "markdown",
   "metadata": {
    "slideshow": {
     "slide_type": "subslide"
    }
   },
   "source": [
    "Mejores prácticas\n",
    "======================"
   ]
  },
  {
   "cell_type": "markdown",
   "metadata": {
    "slideshow": {
     "slide_type": "fragment"
    }
   },
   "source": [
    "Usar UTF-8 en todo lo que tenemos control nosotros."
   ]
  },
  {
   "cell_type": "markdown",
   "metadata": {
    "slideshow": {
     "slide_type": "fragment"
    }
   },
   "source": [
    "Idealmente deberíamos siempre trabajar así:\n",
    "\n",
    "1. Leemos o nos llegan bytes, los **decodificamos** usando el encoding que se haya usado para generarlos, y nos quedamos con unicodes (texto!).\n",
    "2. Trabajamos con el texto en unicode (lo modificamos, armamos, etc)\n",
    "3. **Encodeamos** a bytes al momento de querer guardarlos o enviarlos a algún lado."
   ]
  },
  {
   "cell_type": "code",
   "execution_count": 11,
   "metadata": {
    "slideshow": {
     "slide_type": "subslide"
    }
   },
   "outputs": [
    {
     "name": "stdout",
     "output_type": "stream",
     "text": [
      "74662 /BODY></HTML> es un ñandú\n"
     ]
    }
   ],
   "source": [
    "import requests\n",
    "\n",
    "# leo bytes, y los decodifico\n",
    "pagina_leida = requests.get('http://www.loiprocesos.com')\n",
    "contenido = pagina_leida.content.decode('utf-8')\n",
    "\n",
    "# trabajo con unicodes\n",
    "contenido = contenido.upper().replace('\\n', '') + ' es un ñandú'\n",
    "print(len(contenido), contenido[-25:])\n",
    "\n",
    "# vuelvo a encodear al guardar data\n",
    "datos_salida_en_bytes = contenido.encode('cp1252')  # a la db, una request, un archivo, etc"
   ]
  },
  {
   "cell_type": "markdown",
   "metadata": {
    "slideshow": {
     "slide_type": "subslide"
    }
   },
   "source": [
    "Vamos a tener que conocer y configurar encodings de:\n",
    "\n",
    "- Archivos que leamos o escribamos a disco\n",
    "- Html que entregamos en una response http\n",
    "- Base de datos\n",
    "- Las requests y responses http en sí mismas\n",
    "- Archivos de código (nuestro programa también es texto!)"
   ]
  },
  {
   "cell_type": "markdown",
   "metadata": {
    "slideshow": {
     "slide_type": "subslide"
    }
   },
   "source": [
    "A veces es más fácil!\n",
    "================="
   ]
  },
  {
   "cell_type": "markdown",
   "metadata": {
    "slideshow": {
     "slide_type": "subslide"
    }
   },
   "source": [
    "- La mayoría de los lenguajes permite algunas conversiones automáticas al leer o escribir archivos\n",
    "- La mayoría de los ORMs modernos nos dan la data ya decodificada, y encodean al enviar a la DB (ej: Django)"
   ]
  },
  {
   "cell_type": "code",
   "execution_count": 12,
   "metadata": {
    "scrolled": true,
    "slideshow": {
     "slide_type": "fragment"
    }
   },
   "outputs": [
    {
     "name": "stdout",
     "output_type": "stream",
     "text": [
      "FISA es un ñandú\n"
     ]
    }
   ],
   "source": [
    "# ej: al abrir archivos en python, definir el encoding y solo nos decodea y encodea\n",
    "\n",
    "with open('un_archivo.txt', 'r', encoding='utf-8') as archivo_entrada:\n",
    "    nombre = archivo_entrada.read()  # nos da unicodes! decodea solo\n",
    "    \n",
    "nombre = nombre.upper().replace('\\n', '') + ' es un ñandú'\n",
    "print(nombre)\n",
    "\n",
    "with open('otro_archivo.txt', 'w', encoding='cp1252') as archivo_salida:\n",
    "    archivo_salida.write(nombre)  # le pasamos unicodes y nos encodea solo!"
   ]
  },
  {
   "cell_type": "markdown",
   "metadata": {
    "slideshow": {
     "slide_type": "subslide"
    }
   },
   "source": [
    "Problemas comunes\n",
    "================="
   ]
  },
  {
   "cell_type": "markdown",
   "metadata": {
    "slideshow": {
     "slide_type": "subslide"
    }
   },
   "source": [
    "No sabemos qué encoding tiene un archivo que nos da un tercero.\n",
    "\n",
    "Solución: pedir que nos digan el encoding, y si no lo saben o no entienden, hay libs para adivinar, no 100% precisas.\n",
    "\n",
    "\"En qué encoding está el archivo que me pasaste?\"\n",
    "\n",
    "\"Está en unicode\"\n",
    "\n",
    "\"O...k...\""
   ]
  },
  {
   "cell_type": "markdown",
   "metadata": {
    "slideshow": {
     "slide_type": "subslide"
    }
   },
   "source": [
    "Una response http o su contenido dice que viene en un encoding, y cuando la leemos con ese encoding falla o vemos caracteres raros.\n",
    "\n",
    "Solución: pedir que lo arreglen, o si no intentar adivinar cuál es el encoding que realmente están usando."
   ]
  },
  {
   "cell_type": "markdown",
   "metadata": {
    "slideshow": {
     "slide_type": "subslide"
    }
   },
   "source": [
    "Al leer/escribir de la base de datos o de un archivo, estamos viendo caracteres extraños.\n",
    "\n",
    "Solución: seguro estamos leyendo o escribiendo con el encoding incorrecto. Usar el encoding correcto. En bases de datos, el problema más comun suele ser que la base de datos está configurada con un encoding, y al hacerle queries interpretamos los resultados con otro encoding."
   ]
  },
  {
   "cell_type": "markdown",
   "metadata": {
    "slideshow": {
     "slide_type": "subslide"
    }
   },
   "source": [
    "Al acceder a nuestro sitio web, se ven caracteres extraños.\n",
    "\n",
    "Solución: probablemente no estamos especificando el encoding de nuestro html, o lo estamos especificando pero estamos generándolo con otro encoding. Usar el encoding correcto y especificarlo en el html."
   ]
  },
  {
   "cell_type": "markdown",
   "metadata": {
    "slideshow": {
     "slide_type": "subslide"
    }
   },
   "source": [
    "Bonus: herramienta para adivinar encodings\n",
    "================="
   ]
  },
  {
   "cell_type": "markdown",
   "metadata": {
    "scrolled": true,
    "slideshow": {
     "slide_type": "fragment"
    }
   },
   "source": [
    "`pip3 install chardet --user`\n",
    "\n",
    "(o `pip install chardet` en un virtualenv)"
   ]
  },
  {
   "cell_type": "code",
   "execution_count": 13,
   "metadata": {
    "scrolled": true,
    "slideshow": {
     "slide_type": "fragment"
    }
   },
   "outputs": [
    {
     "name": "stdout",
     "output_type": "stream",
     "text": [
      "{'encoding': 'utf-8', 'confidence': 0.87625, 'language': ''}\n",
      "{'encoding': 'UTF-16', 'confidence': 1.0, 'language': ''}\n",
      "{'encoding': 'ISO-8859-1', 'confidence': 0.73, 'language': ''}\n"
     ]
    }
   ],
   "source": [
    "from chardet import detect\n",
    "\n",
    "print(detect(bytes_utf8))\n",
    "print(detect(bytes_utf16))\n",
    "print(detect(bytes_cp1252))"
   ]
  },
  {
   "cell_type": "markdown",
   "metadata": {
    "scrolled": true,
    "slideshow": {
     "slide_type": "fragment"
    }
   },
   "source": [
    "No siempre es posible adivinar perfecto :("
   ]
  }
 ],
 "metadata": {
  "celltoolbar": "Slideshow",
  "kernelspec": {
   "display_name": "Python 3",
   "language": "python",
   "name": "python3"
  },
  "language_info": {
   "codemirror_mode": {
    "name": "ipython",
    "version": 3
   },
   "file_extension": ".py",
   "mimetype": "text/x-python",
   "name": "python",
   "nbconvert_exporter": "python",
   "pygments_lexer": "ipython3",
   "version": "3.7.5"
  }
 },
 "nbformat": 4,
 "nbformat_minor": 2
}
