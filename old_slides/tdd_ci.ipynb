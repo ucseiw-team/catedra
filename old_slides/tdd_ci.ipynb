{
 "cells": [
  {
   "cell_type": "markdown",
   "metadata": {
    "slideshow": {
     "slide_type": "slide"
    }
   },
   "source": [
    "Unit testing, TDD, CI\n",
    "=================\n",
    "\n",
    "Ingeniería Web, 2019"
   ]
  },
  {
   "cell_type": "markdown",
   "metadata": {
    "slideshow": {
     "slide_type": "subslide"
    }
   },
   "source": [
    "Repaso de Unit Testing\n",
    "============="
   ]
  },
  {
   "cell_type": "markdown",
   "metadata": {
    "slideshow": {
     "slide_type": "fragment"
    }
   },
   "source": [
    "Al escribir unit tests automatizados, estamos **automatizando la validación** de que el código hace lo que queremos que haga.\n",
    "\n",
    "Cada vez que alguien hace un cambio, puede ejecutar los unit tests, y ellos le dicen si rompió algo de lo que ya existía."
   ]
  },
  {
   "cell_type": "markdown",
   "metadata": {
    "slideshow": {
     "slide_type": "fragment"
    }
   },
   "source": [
    "Lleva tiempo, no es gratis."
   ]
  },
  {
   "cell_type": "markdown",
   "metadata": {
    "slideshow": {
     "slide_type": "fragment"
    }
   },
   "source": [
    "Pero es una **ventaja gigantezca!**\n",
    "\n",
    "Bien hecho nos da una super tranquilidad al hacer cambios sobre el código existente. Impide que muchos errores lleguen a producción."
   ]
  },
  {
   "cell_type": "markdown",
   "metadata": {
    "slideshow": {
     "slide_type": "subslide"
    }
   },
   "source": [
    "Más ventajas: tests como docs\n",
    "============="
   ]
  },
  {
   "cell_type": "markdown",
   "metadata": {
    "slideshow": {
     "slide_type": "fragment"
    }
   },
   "source": [
    "Pero además los unit tests bien hechos, nos sirven como otra cosa: documentación!\n",
    "\n",
    "Cada test de unidad nos muestra cómo usar un fragmento de código, y qué esperar como resultado."
   ]
  },
  {
   "cell_type": "markdown",
   "metadata": {
    "slideshow": {
     "slide_type": "fragment"
    }
   },
   "source": [
    "Unit tests claros sirven como una gran **librería de ejemplos** de uso de nuestro código."
   ]
  },
  {
   "cell_type": "markdown",
   "metadata": {
    "slideshow": {
     "slide_type": "subslide"
    }
   },
   "source": [
    "Más ventajas: código testeable es código ordenado\n",
    "=============================="
   ]
  },
  {
   "cell_type": "markdown",
   "metadata": {
    "slideshow": {
     "slide_type": "fragment"
    }
   },
   "source": [
    "Y también otra ventaja más!: para poder escribir buenos unit tests, nuestro código tiene que estar **poco acoplado**, bien estructurado en unidades independientes, testeables, con pocos side effects y dependencias de estado global.\n",
    "\n",
    "Escribir unit tests muchas veces nos fuerza a escribir **buen código** para que sea fácil de testear."
   ]
  },
  {
   "cell_type": "markdown",
   "metadata": {
    "slideshow": {
     "slide_type": "subslide"
    }
   },
   "source": [
    "TDD\n",
    "===="
   ]
  },
  {
   "cell_type": "markdown",
   "metadata": {
    "slideshow": {
     "slide_type": "fragment"
    }
   },
   "source": [
    "TDD es una práctica que a partir de estas ventajas, propone **escribir primero los tests, y luego el código.**"
   ]
  },
  {
   "cell_type": "markdown",
   "metadata": {
    "slideshow": {
     "slide_type": "fragment"
    }
   },
   "source": [
    "De esa forma:\n",
    "\n",
    "- Vamos a primero diseñar cómo queremos usar el código, cómo sería práctico que funcione.\n",
    "- Vamos a forzarnos desde el inicio a que el código tenga pocos side effects, esté bien desacoplado, etc, para poder escribir los tests.\n",
    "- Como resultaod, el código que escribamos después, va a ser más mantenible."
   ]
  },
  {
   "cell_type": "markdown",
   "metadata": {
    "slideshow": {
     "slide_type": "subslide"
    }
   },
   "source": [
    "No es mágico. Programadores con malas prácticas van a escribir malos tests y luego mal código.\n",
    "\n",
    "**Fomenta**, no garantiza."
   ]
  },
  {
   "cell_type": "markdown",
   "metadata": {
    "slideshow": {
     "slide_type": "subslide"
    }
   },
   "source": [
    "Integración continua\n",
    "================="
   ]
  },
  {
   "cell_type": "markdown",
   "metadata": {
    "slideshow": {
     "slide_type": "fragment"
    }
   },
   "source": [
    "Teniendo unit tests (sin importar si usamos o no TDD), tenemos una herramienta super poderosa para chequear código automáticamente... por qué depender de que los usuarios la usen? Podemos **automatizar su ejecución** también!\n",
    "\n",
    "Es decir, no solo esperar a que los usuarios ejecuten los tests. Podemos hacer que se ejecuten solos!"
   ]
  },
  {
   "cell_type": "markdown",
   "metadata": {
    "slideshow": {
     "slide_type": "fragment"
    }
   },
   "source": [
    "Podemos tener un servidor que esté mirando nuestro repositorio de código, y cada vez que ve nuevos commits, corre los tests.\n",
    "\n",
    "Si algún test falló, que envíe un mail al equipo avisando: \"El commit que Fisa agregó al repo, rompe los tests!\"."
   ]
  },
  {
   "cell_type": "markdown",
   "metadata": {
    "slideshow": {
     "slide_type": "subslide"
    }
   },
   "source": [
    "- No dependemos de que la gente recuerde ejecutar los tests.\n",
    "- Nos enteramos inmediatamente cuando alguien rompe lo que tenemos todos para trabajar.\n",
    "- Sabemos inmediatamente quién fue, para que pushee cambios rotos y se borre por tres días!\n",
    "- Nos enteramos a tiempo, antes de empezar a trabajar sobre cosas rotas con nuevos cambios no relacionados."
   ]
  },
  {
   "cell_type": "markdown",
   "metadata": {
    "slideshow": {
     "slide_type": "subslide"
    }
   },
   "source": [
    "Integración continua reloaded: Branches y merge/pull requests\n",
    "================="
   ]
  },
  {
   "cell_type": "markdown",
   "metadata": {
    "slideshow": {
     "slide_type": "fragment"
    }
   },
   "source": [
    "Si el servidor puede saber que esos cambios rompen el código... por qué permitir que sean parte de la rama oficial de desarrollo??"
   ]
  },
  {
   "cell_type": "markdown",
   "metadata": {
    "slideshow": {
     "slide_type": "subslide"
    }
   },
   "source": [
    "Podemos trabajar con un nuevo paso intermedio: pull requests o merge requests.\n",
    "\n",
    "Cuando un programador trabaja, lo hace en **un branch** (una rama) de git diferente a master. \n",
    "\n",
    "Cuando termina sus cambios, pushea su branch al servidor (pero no a master!), y **\"propone\" los cambios por medio de una web** (crea un pull o merge request), donde los demás pueden verlos. Esa propuesta básicamente dice \"propongo mergear este branch\", solo que en la web se ve el diff más lindo, se puede discutir, etc."
   ]
  },
  {
   "cell_type": "markdown",
   "metadata": {
    "slideshow": {
     "slide_type": "fragment"
    }
   },
   "source": [
    "Y en ese momento, la integración continua corre los tests en ese branch y valida si pasan. Si los tests no pasan, no se permite mergear esos cambios a master!"
   ]
  },
  {
   "cell_type": "markdown",
   "metadata": {
    "slideshow": {
     "slide_type": "subslide"
    }
   },
   "source": [
    "- No dependemos de que la gente recuerde ejecutar los tests.\n",
    "- Nunca entran a master cambios que rompan el código. Solo entran cosas que los tests validaron que no rompen nada.\n",
    "- El desarrollador tiene chances de arreglar los problemas sin molestar a los demás. El que rompió, no está presionado a arreglarlo cuanto antes! Un alivio gigante. Se puede ir de fiesta el finde y verlo el lunes."
   ]
  },
  {
   "cell_type": "markdown",
   "metadata": {
    "slideshow": {
     "slide_type": "subslide"
    }
   },
   "source": [
    "Code reviews\n",
    "================="
   ]
  },
  {
   "cell_type": "markdown",
   "metadata": {
    "slideshow": {
     "slide_type": "fragment"
    }
   },
   "source": [
    "Dijimos que solo se puede mergear un merge/pull request, si los tests pasan.\n",
    "\n",
    "Pero quién lo mergea? Cuándo?"
   ]
  },
  {
   "cell_type": "markdown",
   "metadata": {
    "slideshow": {
     "slide_type": "fragment"
    }
   },
   "source": [
    "Una buena práctica es aprovechar ese paso para hacer **code review**!\n",
    "\n",
    "1. **Otra** persona, no el programador original, revisa si los cambios le parecen buenos.\n",
    "2. Se puede discutir en el merge/pull request, y seguir agregando cambios allí. Ej: \"me parece que esto es mejor de otra forma\", \"ok! ya lo cambio y pusheo!\".\n",
    "3. Solo cuando la segunda persona considera que está todo ok (y si pasan los tests!), se mergea a master.\n",
    "\n",
    "En muchos lados, se exige que N personas lo revisen y aprueben antes de ser mergeado. Depende de cuánto estamos dispuestos a gastar, y qué tan delicado sea."
   ]
  },
  {
   "cell_type": "markdown",
   "metadata": {
    "slideshow": {
     "slide_type": "subslide"
    }
   },
   "source": [
    "Ventajas:\n",
    "\n",
    "- Ayuda a encontrar cosas temprano: varios programadores ven más que uno.\n",
    "- Ayuda a repartir ownership!! todo el código fue visto por al menos dos personas diferentes, ya no hay un \"eso solo lo conoce pepito\".\n",
    "- Ayuda a transmitir conocimiento a los nuevos! Los fuerza a estar mirando cómo hace las cosas el resto del equipo."
   ]
  },
  {
   "cell_type": "markdown",
   "metadata": {
    "slideshow": {
     "slide_type": "fragment"
    }
   },
   "source": [
    "Problemas:\n",
    "\n",
    "- Hacerlo de verdad lleva tiempo, trabajo.\n",
    "- Hay que saber dar feedback respetuoso y constructivo. Si no, es fuente de peleas.\n",
    "- Hay gente que por desinterés va a aprobar cosas sin mirar, hay que educar para que no pase."
   ]
  },
  {
   "cell_type": "markdown",
   "metadata": {
    "slideshow": {
     "slide_type": "subslide"
    }
   },
   "source": [
    "Integración continua revolutions: automatizando de todo\n",
    "================="
   ]
  },
  {
   "cell_type": "markdown",
   "metadata": {
    "slideshow": {
     "slide_type": "fragment"
    }
   },
   "source": [
    "Hasta ahora nuestra integración continua solo corre los tests. Puede hacer más?"
   ]
  },
  {
   "cell_type": "markdown",
   "metadata": {
    "slideshow": {
     "slide_type": "fragment"
    }
   },
   "source": [
    "**Sí!!**"
   ]
  },
  {
   "cell_type": "markdown",
   "metadata": {
    "slideshow": {
     "slide_type": "subslide"
    }
   },
   "source": [
    "Puede utilizar herramientas que **detecten errores** de código automáticamente, o que chequeen el estándar de **estilo de código** que usemos (ej en Python: pyflakes, pep8, etc)."
   ]
  },
  {
   "cell_type": "markdown",
   "metadata": {
    "slideshow": {
     "slide_type": "subslide"
    }
   },
   "source": [
    "Puede compilar y publicar la **documentación**, si la tenemos como parte del repo!"
   ]
  },
  {
   "cell_type": "markdown",
   "metadata": {
    "slideshow": {
     "slide_type": "subslide"
    }
   },
   "source": [
    "Puede incluso... **deployar nuestro sitio web**!"
   ]
  },
  {
   "cell_type": "markdown",
   "metadata": {
    "slideshow": {
     "slide_type": "fragment"
    }
   },
   "source": [
    "Si tenemos automatizado el deploy de nuestro sitio o app (es decir: que el deploy sea un programa que ejecutamos, no pasos que un humano tiene que hacer a mano)..."
   ]
  },
  {
   "cell_type": "markdown",
   "metadata": {
    "slideshow": {
     "slide_type": "fragment"
    }
   },
   "source": [
    "- Cada vez que alguien mergea cosas nuevas a master, podría deployar a un servidor de pruebas automáticamente.\n",
    "- Cada vez que etiquetamos en el repo un release nuevo, podría deployar automáticamente a producción."
   ]
  },
  {
   "cell_type": "markdown",
   "metadata": {
    "slideshow": {
     "slide_type": "fragment"
    }
   },
   "source": [
    "DEPLOYAR AUTOMÁTICO A PRODUCCIÓN???!!   **:O**"
   ]
  },
  {
   "cell_type": "markdown",
   "metadata": {
    "slideshow": {
     "slide_type": "fragment"
    }
   },
   "source": [
    "Sí!  Esto se llama **Continuous Deployment**, y se hace en muchos lados."
   ]
  },
  {
   "cell_type": "markdown",
   "metadata": {
    "slideshow": {
     "slide_type": "subslide"
    }
   },
   "source": [
    "Automatizando el deploy\n",
    "================="
   ]
  },
  {
   "cell_type": "markdown",
   "metadata": {
    "slideshow": {
     "slide_type": "fragment"
    }
   },
   "source": [
    "Antes dijimos \"si tenemos automatizado el deploy...\". Cómo hacemos eso??"
   ]
  },
  {
   "cell_type": "markdown",
   "metadata": {
    "slideshow": {
     "slide_type": "fragment"
    }
   },
   "source": [
    "Básicamente necesitamos un programa que pueda hacer todo esto sin intervención humana:\n",
    "\n",
    "- Instalación de dependencias (motor de base de datos, servicios, libs, etc)\n",
    "- Configuración de servicios (ej: crear usuario en la db, abrir puertos, etc)\n",
    "- Iniciar y reiniciar nuestras apps (levantar el servidor web, etc)\n",
    "- Si tenemos más de una app, entender de las dependencias entre sí (no levantar el server web sin el de la api de la que depende, etc)."
   ]
  },
  {
   "cell_type": "markdown",
   "metadata": {
    "slideshow": {
     "slide_type": "subslide"
    }
   },
   "source": [
    "No es una locura, es accesible. Hay todo un mundo de herramientas alrededor de esto: Ansible, Docker, Kubernetes, Cheff, Puppet, ... (vamos a hablar de Docker en otra clase)\n",
    "\n",
    "Y no se puede obviar...: en Linux es mucho más fácil automatizar que en Windows (pero están mejorando)."
   ]
  },
  {
   "cell_type": "markdown",
   "metadata": {
    "slideshow": {
     "slide_type": "fragment"
    }
   },
   "source": [
    "Y hay empresas que proveen esto como servicio (Amazon, Heroku, etc)."
   ]
  },
  {
   "cell_type": "markdown",
   "metadata": {
    "slideshow": {
     "slide_type": "subslide"
    }
   },
   "source": [
    "Automatizando la infraestructura\n",
    "================="
   ]
  },
  {
   "cell_type": "markdown",
   "metadata": {
    "slideshow": {
     "slide_type": "fragment"
    }
   },
   "source": [
    "Hasta ahora asumimos que el server \"existe\", solo estamos automatizando la instalación y config de software."
   ]
  },
  {
   "cell_type": "markdown",
   "metadata": {
    "slideshow": {
     "slide_type": "fragment"
    }
   },
   "source": [
    "Pero hoy, a escala, también se tiende a automatizar la infraestructura! Por ejemplo:\n",
    "\n",
    "- Que se levanten más máquinas virtuales si se detecta carga muy grande (por ejemplo por tráfico de un evento en vivo).\n",
    "- Que se den de baja máquinas si la carga es baja.\n",
    "- Que al actualizar, se vayan reemplazando de a una máquina con la versión nueva, progresivamente.\n",
    "- ...\n"
   ]
  },
  {
   "cell_type": "markdown",
   "metadata": {
    "slideshow": {
     "slide_type": "fragment"
    }
   },
   "source": [
    "Las máquinas son claramente descartables, se crean y destruyen todo el tiempo. Son ganado, no mascotas.\n",
    "\n",
    "La data no va en esas máquinas!"
   ]
  },
  {
   "cell_type": "markdown",
   "metadata": {
    "slideshow": {
     "slide_type": "fragment"
    }
   },
   "source": [
    "Herramientas como Docker y Kubernetes nos permiten resolver incluso a este nivel."
   ]
  },
  {
   "cell_type": "markdown",
   "metadata": {
    "slideshow": {
     "slide_type": "subslide"
    }
   },
   "source": [
    "Resumiendo\n",
    "================="
   ]
  },
  {
   "cell_type": "markdown",
   "metadata": {
    "slideshow": {
     "slide_type": "fragment"
    }
   },
   "source": [
    "1. Programador crea un branch. Agrega código y tests. Quizás hace TDD, quizás no, pero tests escribe.\n",
    "2. Programador pushea branch, y crea un merge/pull request en el repo.\n",
    "3. El server de CI corre los tests, valida calidad, y compila doc de ese branch. \n",
    "4. Otros programadores hacen code review, quizás hay varias idas y vueltas de actualizar y agregar más cambios.\n",
    "5. Cuando tenga suficientes +1 y los tests pasen, se mergea!\n",
    "5. Al mergear a master, el server de CI vuelve a correr los chequeos y tests en master, y además deploya master al server de pruebas.\n",
    "6. Cuando alguien quiera, marca un tag en master como un release, y el server de CI deploya eso a producción.\n"
   ]
  },
  {
   "cell_type": "markdown",
   "metadata": {
    "slideshow": {
     "slide_type": "subslide"
    }
   },
   "source": [
    "\"Demo\"\n",
    "========"
   ]
  }
 ],
 "metadata": {
  "celltoolbar": "Slideshow",
  "kernelspec": {
   "display_name": "Python 3",
   "language": "python",
   "name": "python3"
  },
  "language_info": {
   "codemirror_mode": {
    "name": "ipython",
    "version": 3
   },
   "file_extension": ".py",
   "mimetype": "text/x-python",
   "name": "python",
   "nbconvert_exporter": "python",
   "pygments_lexer": "ipython3",
   "version": "3.7.3"
  }
 },
 "nbformat": 4,
 "nbformat_minor": 2
}
