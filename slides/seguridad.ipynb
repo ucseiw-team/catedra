{
 "cells": [
  {
   "cell_type": "markdown",
   "metadata": {
    "slideshow": {
     "slide_type": "slide"
    }
   },
   "source": [
    "Seguridad\n",
    "=========\n",
    "\n",
    "Ingeniería Web, 2019"
   ]
  },
  {
   "cell_type": "markdown",
   "metadata": {
    "slideshow": {
     "slide_type": "subslide"
    }
   },
   "source": [
    "Cuánto hay para saber de seguridad?\n",
    "================================="
   ]
  },
  {
   "cell_type": "markdown",
   "metadata": {
    "slideshow": {
     "slide_type": "fragment"
    }
   },
   "source": [
    "**Mucho**.\n",
    "\n",
    "Es prácticamente un mundo aparte. Sus propias prácticas, libros, conferencias, carreras, herramientas, etc."
   ]
  },
  {
   "cell_type": "markdown",
   "metadata": {
    "slideshow": {
     "slide_type": "subslide"
    }
   },
   "source": [
    "Y cuánto **tengo** que saber de seguridad?\n",
    "================================="
   ]
  },
  {
   "cell_type": "markdown",
   "metadata": {
    "slideshow": {
     "slide_type": "fragment"
    }
   },
   "source": [
    "Lo más que puedas. Nunca está de más."
   ]
  },
  {
   "cell_type": "markdown",
   "metadata": {
    "slideshow": {
     "slide_type": "fragment"
    }
   },
   "source": [
    "En esta clase vamos a ver solo algunos temas puntuales, **importantes, pero básicos**."
   ]
  },
  {
   "cell_type": "markdown",
   "metadata": {
    "slideshow": {
     "slide_type": "subslide"
    }
   },
   "source": [
    "Sobre soluciones caseras...\n",
    "================================="
   ]
  },
  {
   "cell_type": "markdown",
   "metadata": {
    "slideshow": {
     "slide_type": "fragment"
    }
   },
   "source": [
    "Escenario típico:\n",
    "\n",
    "\"Tengo que guardar la contraseña de forma segura...\"\n",
    "\n",
    "\"Ya se! Podría programar algo que la invierta, le sume 3 letras a cada caracter, y después...\""
   ]
  },
  {
   "cell_type": "markdown",
   "metadata": {
    "slideshow": {
     "slide_type": "subslide"
    }
   },
   "source": [
    "![](./no.jpg)"
   ]
  },
  {
   "cell_type": "markdown",
   "metadata": {
    "slideshow": {
     "slide_type": "subslide"
    }
   },
   "source": [
    "No. Nunca. NO INVENTEN.\n",
    "\n",
    "**Las soluciones caseras nunca son seguras.**\n",
    "\n",
    "Algoritmos diseñados por especialistas en criptografía con décadas de experiencia estudiando y diseñando algoritmos seguros, fueron rotos. Romper tu solución casera va a ser infinitamente más fácil que eso."
   ]
  },
  {
   "cell_type": "markdown",
   "metadata": {
    "slideshow": {
     "slide_type": "subslide"
    }
   },
   "source": [
    "**Los programadores no somos expertos en seguridad.**\n",
    "\n",
    "Las cosas diseñadas por gente no experta en seguridad, son super vulnerables.\n",
    "\n",
    "Los programadores tenemos que hacer lo que los expertos en seguridad diseñan/recomiendan."
   ]
  },
  {
   "cell_type": "markdown",
   "metadata": {
    "slideshow": {
     "slide_type": "subslide"
    }
   },
   "source": [
    "Seguridad por oscuridad\n",
    "===================="
   ]
  },
  {
   "cell_type": "markdown",
   "metadata": {
    "slideshow": {
     "slide_type": "fragment"
    }
   },
   "source": [
    "- \"Nadie puede desencriptar este paquete de red, porque nadie sabe **cómo** lo encripté\".\n",
    "- \"Nadie puede acceder a este servidor, porque nadie sabe cómo lo configuré\".\n",
    "- \"Nadie puede crackear este programa, porque nadie sabe cómo valido que sea original\".\n",
    "- ...\n",
    "\n",
    "Confiar en que algo no es seguro, porque otros no saben **cómo** fue hecho seguro."
   ]
  },
  {
   "cell_type": "markdown",
   "metadata": {
    "slideshow": {
     "slide_type": "subslide"
    }
   },
   "source": [
    "Por lo general, **es una muy mala idea**. La práctica mostró siempre que si es importante, se termina descubriendo."
   ]
  },
  {
   "cell_type": "markdown",
   "metadata": {
    "slideshow": {
     "slide_type": "fragment"
    }
   },
   "source": [
    "Una buena práctica o algoritmo de seguridad, es seguro **por más que el atacante sepa qué técnica estamos usando**.\n",
    "\n",
    "Ej: crackear un key AES-256 usando 10^38 supoercomputadoras Tianhe-2 (la 4ta más potente al 2019), tomaría más tiempo que la edad actual del universo. Y eso son muchísimas veces más que una supercomputadora por cada grano de arena en la Tierra."
   ]
  },
  {
   "cell_type": "markdown",
   "metadata": {
    "slideshow": {
     "slide_type": "fragment"
    }
   },
   "source": [
    "Los buenos algoritmos y prácticas de seguridad, son **abiertos**, estudiados y probados públicamente."
   ]
  },
  {
   "cell_type": "markdown",
   "metadata": {
    "slideshow": {
     "slide_type": "fragment"
    }
   },
   "source": [
    "Y por eso también es mala tu solución casera: no tiene cientos de expertos probándola validándola. Y la oscuridad no te va a salvar de alguien decidido :)"
   ]
  },
  {
   "cell_type": "markdown",
   "metadata": {
    "slideshow": {
     "slide_type": "subslide"
    }
   },
   "source": [
    "Encriptación simétrica vs asimétrica\n",
    "===================="
   ]
  },
  {
   "cell_type": "markdown",
   "metadata": {
    "slideshow": {
     "slide_type": "subslide"
    }
   },
   "source": [
    "Simétrica\n",
    "-----------\n",
    "\n",
    "A y B usan una misma clave, única, compartida, para encriptar y desencriptar sus mensajes. Ninguna otra clave funciona.\n",
    "\n",
    "- Proceso simple\n",
    "- Problema: tenemos que ponernos de acuerdo en la clave, que es un secreto pero tenemos que comunicarlo en algún momento (alguien puede atacar ese proceso).\n",
    "- Alguien que accede a la clave, tiene conocimiento absoluto, y puede falsificar mensajes también.\n"
   ]
  },
  {
   "cell_type": "markdown",
   "metadata": {
    "slideshow": {
     "slide_type": "subslide"
    }
   },
   "source": [
    "Asimétrica\n",
    "------------\n",
    "\n",
    "Cada quien tiene un par de claves, una privada y una pública. Y el algoritmo garantiza que:\n",
    "\n",
    "- Algo encriptado con una clave pública, solo puede ser desencriptado con su clave privada correspondiente.\n",
    "- Algo encriptado con una clave privada, solo puede ser desencriptado con su clave pública correspondiente."
   ]
  },
  {
   "cell_type": "markdown",
   "metadata": {
    "slideshow": {
     "slide_type": "fragment"
    }
   },
   "source": [
    "- Proceso bastante más complejo\n",
    "- Pero las claves privadas nunca se comparten, la parte secreta nunca se transmite.\n",
    "- Igual tenemos que confiar en que conocemos la clave pública de alguien (pero no es un secreto!)."
   ]
  },
  {
   "cell_type": "markdown",
   "metadata": {
    "slideshow": {
     "slide_type": "subslide"
    }
   },
   "source": [
    "Extra  (no se evalúa):\n",
    "----------------------------\n",
    "\n",
    "Cómo mandamos un mensaje con encriptación asimétrica?"
   ]
  },
  {
   "cell_type": "markdown",
   "metadata": {
    "slideshow": {
     "slide_type": "fragment"
    }
   },
   "source": [
    "Si A quiere mandarle algo a B, lo **encripta** dos veces (como una caja adentro de otra caja):\n",
    "    \n",
    "- Con la clave pública de B: entonces solo B puede desencriptar el mensaje (usando su privada).\n",
    "- Y con su clave privada de A: entonces solo la clave pública de A va a poder desencriptarlo, lo que le asegura a B que el mensaje fue realmente escrito por A.\n",
    "\n",
    "Consecuencia: solo B puede leer el mensaje, y está seguro de que A fue el autor."
   ]
  },
  {
   "cell_type": "markdown",
   "metadata": {
    "slideshow": {
     "slide_type": "subslide"
    }
   },
   "source": [
    "Prácticas y tecnologías específicas\n",
    "===================="
   ]
  },
  {
   "cell_type": "markdown",
   "metadata": {
    "slideshow": {
     "slide_type": "subslide"
    }
   },
   "source": [
    "Guardado de passwords\n",
    "===================="
   ]
  },
  {
   "cell_type": "markdown",
   "metadata": {
    "slideshow": {
     "slide_type": "fragment"
    }
   },
   "source": [
    "Cómo guardarían una password?"
   ]
  },
  {
   "cell_type": "markdown",
   "metadata": {
    "slideshow": {
     "slide_type": "fragment"
    }
   },
   "source": [
    "\"La encripto!\""
   ]
  },
  {
   "cell_type": "markdown",
   "metadata": {
    "slideshow": {
     "slide_type": "subslide"
    }
   },
   "source": [
    "![](./no.jpg)"
   ]
  },
  {
   "cell_type": "markdown",
   "metadata": {
    "slideshow": {
     "slide_type": "subslide"
    }
   },
   "source": [
    "Las passwords **no se encryptan!!!**\n",
    "\n",
    "Las passwords se **hasheah**."
   ]
  },
  {
   "cell_type": "markdown",
   "metadata": {
    "slideshow": {
     "slide_type": "fragment"
    }
   },
   "source": [
    "Un algoritmo de encriptación es de \"ida y vuelta\": puedo desencriptar el dato encriptado, usando la clave.\n",
    "\n",
    "**No** quiero que alguien que entró al servidor, pueda desencriptar. Si mi código puede desencriptar la password, el atacante dentro de mi servidor también.\n"
   ]
  },
  {
   "cell_type": "markdown",
   "metadata": {
    "slideshow": {
     "slide_type": "fragment"
    }
   },
   "source": [
    "Un algoritmo de hashing es de \"solo ida\": entra el dato, sale un hash. Distintos datos dan distintos hashes. Pero a partir de un hash, **no** puedo obtener el dato original. No hay forma.\n",
    "\n",
    "Un atacante que entró a mi server, va a poder ver los hashes, pero sigue sin poder obtener las passwords."
   ]
  },
  {
   "cell_type": "markdown",
   "metadata": {
    "slideshow": {
     "slide_type": "subslide"
    }
   },
   "source": [
    "El dato de entrada para el algoritmo de hashing es más que solo la password. Normalmente se usa una semilla y data extra."
   ]
  },
  {
   "cell_type": "markdown",
   "metadata": {
    "slideshow": {
     "slide_type": "subslide"
    }
   },
   "source": [
    "HTTPS\n",
    "======="
   ]
  },
  {
   "cell_type": "markdown",
   "metadata": {
    "slideshow": {
     "slide_type": "fragment"
    }
   },
   "source": [
    "Por default, las requests y responses de HTTP son texto que viaja en paquetes de TCP.\n",
    "\n",
    "Esto genera dos problemas gigantes:"
   ]
  },
  {
   "cell_type": "markdown",
   "metadata": {
    "slideshow": {
     "slide_type": "fragment"
    }
   },
   "source": [
    "**Privacidad**: Cualquier intermediario haciendo de pasamanos del paquete, puede ver su contenido! Y cualquier compañero de red wifi puede ver todos los paquetes que se están pasando por la red también!"
   ]
  },
  {
   "cell_type": "markdown",
   "metadata": {
    "slideshow": {
     "slide_type": "fragment"
    }
   },
   "source": [
    "**Autenticidad**: Cualquier intermediario podría retener la request, armar una response, y devolvérmela. Cómo se si fue Google el que me dio esta response, o fue Fibertel metiéndose en el medio? Le puedo dar data privada?"
   ]
  },
  {
   "cell_type": "markdown",
   "metadata": {
    "slideshow": {
     "slide_type": "subslide"
    }
   },
   "source": [
    "Solución: **HTTPS**."
   ]
  },
  {
   "cell_type": "markdown",
   "metadata": {
    "slideshow": {
     "slide_type": "fragment"
    }
   },
   "source": [
    "**Privacidad**: HTTPS **encripta** el contenido de las requests y responses, por lo que los paquetes de red van a ser ilegibles para cualquiera que no sea el origen o destino de ellos."
   ]
  },
  {
   "cell_type": "markdown",
   "metadata": {
    "slideshow": {
     "slide_type": "fragment"
    }
   },
   "source": [
    "**Autenticidad**: HTTPS introduce un mecanismo de **certificados** que permiten validar si una response vino del dominio que dice venir. Un certificado no es más que un par de claves pública y privada, asociadas a un dominio en particular, que se usan para firmar las responses. Y además, existen entidades que certifican las claves públicas asociadas a cada dominio.\n",
    "\n",
    "- Requiere tener los certificados de estas entidades en nuestra PC, guardados (los tiene el sistema operativo, se actualizan).\n",
    "- Los certificados vencen, hay que renovarlos."
   ]
  },
  {
   "cell_type": "markdown",
   "metadata": {
    "slideshow": {
     "slide_type": "subslide"
    }
   },
   "source": [
    "Problemas de HTTPS\n",
    "-------------------------------"
   ]
  },
  {
   "cell_type": "markdown",
   "metadata": {
    "slideshow": {
     "slide_type": "fragment"
    }
   },
   "source": [
    "- ~~Costo del certificado~~ Ya no! (Lets Encrypt)[https://letsencrypt.org/] nos lo provee gratis y automatizado.\n",
    "- Costo de procesamiento: firmar, encriptar y desencriptar son cosas pesadas."
   ]
  },
  {
   "cell_type": "markdown",
   "metadata": {
    "slideshow": {
     "slide_type": "fragment"
    }
   },
   "source": [
    "Podemos usarlo en algunas partes. Pero por lo general, es mejor asumir el costo y usar HTTPS en todo."
   ]
  },
  {
   "cell_type": "markdown",
   "metadata": {
    "slideshow": {
     "slide_type": "subslide"
    }
   },
   "source": [
    "Ataque: SQL injections\n",
    "==================="
   ]
  },
  {
   "cell_type": "markdown",
   "metadata": {
    "slideshow": {
     "slide_type": "fragment"
    }
   },
   "source": [
    "Imaginemos un formulario para buscar contactos por email en nuestro sitio:\n",
    "\n",
    "```\n",
    "  email: _____________\n",
    "```\n"
   ]
  },
  {
   "cell_type": "markdown",
   "metadata": {
    "slideshow": {
     "slide_type": "subslide"
    }
   },
   "source": [
    "Código:\n",
    "\n",
    "\n",
    "```python\n",
    "def buscar_contacto():\n",
    "    query = \"SELECT * FROM usuarios WHERE email = '\" + form.email + \"'\"\n",
    "    resultados = db.run(query)\n",
    "    return resultados\n",
    "    \n",
    "```        "
   ]
  },
  {
   "cell_type": "markdown",
   "metadata": {
    "slideshow": {
     "slide_type": "subslide"
    }
   },
   "source": [
    "Qué pasa si el usuario rellena el form así?:\n",
    "\n",
    "```\n",
    "  email: bla' OR 'hola' = 'hola\n",
    "```\n",
    "\n",
    "Qué usuarios aparecerían en los resultados de la búsqueda?\n"
   ]
  },
  {
   "cell_type": "markdown",
   "metadata": {
    "slideshow": {
     "slide_type": "subslide"
    }
   },
   "source": [
    "Y si lo rellena así?:\n",
    "\n",
    "```\n",
    "  email: bla'; DROP TABLE usuarios; SELECT 'hola\n",
    "```"
   ]
  },
  {
   "cell_type": "markdown",
   "metadata": {
    "slideshow": {
     "slide_type": "fragment"
    }
   },
   "source": [
    "O así?:\n",
    "\n",
    "```\n",
    "  email: bla'; UPDATE usuarios SET admin = True WHERE email = 'fisadev@gmail.com'; SELECT 'hola\n",
    "```"
   ]
  },
  {
   "cell_type": "markdown",
   "metadata": {
    "slideshow": {
     "slide_type": "subslide"
    }
   },
   "source": [
    "Solución\n",
    "---------\n",
    "\n",
    "**NUNCA** concatenen input de usuarios con SQL.\n",
    "\n",
    "Usen **consultas preparadas**! Todos los motores de bases de datos lo soportan."
   ]
  },
  {
   "cell_type": "markdown",
   "metadata": {
    "slideshow": {
     "slide_type": "fragment"
    }
   },
   "source": [
    "```python\n",
    "def buscar_contacto():\n",
    "    query = \"SELECT * FROM usuarios WHERE email = ?\"\n",
    "    resultados = db.run(query, form.email)\n",
    "    return resultados\n",
    "```        "
   ]
  },
  {
   "cell_type": "markdown",
   "metadata": {
    "slideshow": {
     "slide_type": "fragment"
    }
   },
   "source": [
    "El motor sabe que lo que venga en los parámetros **no es ejecutable**, sino solo un valor (en este caso, lo trataría como un texto entero)."
   ]
  },
  {
   "cell_type": "markdown",
   "metadata": {
    "slideshow": {
     "slide_type": "subslide"
    }
   },
   "source": [
    "Ataque: XSS (cross-site scripting)\n",
    "============================="
   ]
  },
  {
   "cell_type": "markdown",
   "metadata": {
    "slideshow": {
     "slide_type": "fragment"
    }
   },
   "source": [
    "Imaginemos que mostramos los comentarios de nuestros usuarios así:\n",
    "\n",
    "```html\n",
    "<h3>{{ comentario.usuario.nombre }}: {{ comentario.fecha }}</h3>\n",
    "<p>{{ comentario.texto }}</p>\n",
    "```\n"
   ]
  },
  {
   "cell_type": "markdown",
   "metadata": {
    "slideshow": {
     "slide_type": "fragment"
    }
   },
   "source": [
    "Qué pasa si un usuario postea este comentario?:\n",
    "\n",
    "```\n",
    "   Hola!\n",
    "   <script>\n",
    "       while (True) {\n",
    "           alert(\"aguante river!\");\n",
    "       }\n",
    "   </script>\n",
    "```\n"
   ]
  },
  {
   "cell_type": "markdown",
   "metadata": {
    "slideshow": {
     "slide_type": "fragment"
    }
   },
   "source": [
    "O peor: puede estar por ejemplo extrayendo datos, o redireccionando a otro sitio, o impidiendo que el usuario haga algo, etc."
   ]
  },
  {
   "cell_type": "markdown",
   "metadata": {
    "slideshow": {
     "slide_type": "subslide"
    }
   },
   "source": [
    "Solución\n",
    "------\n",
    "\n",
    "Todos los frameworks tienen alguna herramienta para **sanitizar input de usuarios** al mostrarlo dentro del HTML. \n",
    "\n",
    "Muchos lo hacen **por default** (Django por ejemplo), y pueden desactivarlo sin confían en algún input en particular.\n",
    "\n",
    "**No** intenten sanitizar a mano. Es un problema complejo, usen herramientas ya probadas por la comunidad."
   ]
  },
  {
   "cell_type": "markdown",
   "metadata": {
    "slideshow": {
     "slide_type": "subslide"
    }
   },
   "source": [
    "Ataque: XSRF o CSRF (cross-site request forgery)\n",
    "============================="
   ]
  },
  {
   "cell_type": "markdown",
   "metadata": {
    "slideshow": {
     "slide_type": "fragment"
    }
   },
   "source": [
    "Imaginemos que en nuestro sitio permitimos que los usuarios posteen links en sus comentarios, poniendo la url y texto que quieran.\n",
    "\n",
    "Qué sucedería si un atacante hace esto?:\n",
    "\n",
    "1. Postea un link con texto \"oferta de espadas gratis!\", que apunta a un sitio del atacante.\n",
    "2. El sitio del atacante muestra un form que pide \"cuántas espadas querés gratis?\", pero además tiene algunos campos ocultos con otros datos, y es un form que hace POST a la url `nuestrositio.com/postear_comentario`.\n",
    "\n",
    "Qué va a suceder cuando la gente haga click en su comentario, rellene ese form, y haga click en el submit del form?"
   ]
  },
  {
   "cell_type": "markdown",
   "metadata": {
    "slideshow": {
     "slide_type": "fragment"
    }
   },
   "source": [
    "**No** queremos que cualquiera pueda decirle al navegador \"hacé este POST al sitio, usando la cookie de sesión del usuario\", sin que el usuario haya pedido un form y posteado él mismo.\n",
    "\n",
    "Queremos que solo se pueda postear cuando el usuario realmente estaba viendo un form nuestro!"
   ]
  },
  {
   "cell_type": "markdown",
   "metadata": {
    "slideshow": {
     "slide_type": "subslide"
    }
   },
   "source": [
    "Solución\n",
    "------\n",
    "\n",
    "Siempre que generamos un form para que el usuario postee, creamos junto un **token**, lo incluímos en el form y lo guardamos también en la db como \"pendiente de postear\".\n",
    "\n",
    "Cuando el usuario postea nos llega su request con el token dentro del form: **validamos el token** y lo borramos de la db.\n",
    "\n",
    "Si nos llega un post sin token, o con un token ya usado, **rechazamos** al request, es un atacante!"
   ]
  },
  {
   "cell_type": "markdown",
   "metadata": {
    "slideshow": {
     "slide_type": "subslide"
    }
   },
   "source": [
    "No facilitar la vida a atacantes\n",
    "============================="
   ]
  },
  {
   "cell_type": "markdown",
   "metadata": {
    "slideshow": {
     "slide_type": "fragment"
    }
   },
   "source": [
    "Todo el software que usemos, **va a tener vulnerabilidades**: sistema operativo, server web, base de datos, lenguaje de programación, frameworks y libs externas, etc."
   ]
  },
  {
   "cell_type": "markdown",
   "metadata": {
    "slideshow": {
     "slide_type": "fragment"
    }
   },
   "source": [
    "Esas vulnerabilidades se **publican** cuando se descubren. Es muy fácil ir a ver la lista de vulnerabilidades conocidas de la mayoría de las cosas."
   ]
  },
  {
   "cell_type": "markdown",
   "metadata": {
    "slideshow": {
     "slide_type": "fragment"
    }
   },
   "source": [
    "Por eso es muy fácil para un atacante aprovechar las vulnerabilidades conocidas, si **sabe qué software estamos usando**."
   ]
  },
  {
   "cell_type": "markdown",
   "metadata": {
    "slideshow": {
     "slide_type": "subslide"
    }
   },
   "source": [
    "Por lo general es buena idea **dar la menor cantidad de información posible.**\n",
    "\n",
    "Que las requests no digan qué server y versión usamos. Que el html no diga qué framework y versión lo generó. Que si ocurre un error, no se le muestre al usuario la página de debug con toooda la info interna de la aplicación. Etc."
   ]
  },
  {
   "cell_type": "markdown",
   "metadata": {
    "slideshow": {
     "slide_type": "fragment"
    }
   },
   "source": [
    "\"No es seguridad por oscuridad?????\""
   ]
  },
  {
   "cell_type": "markdown",
   "metadata": {
    "slideshow": {
     "slide_type": "fragment"
    }
   },
   "source": [
    "No. Porque nuestra seguridad no se \"basa\" solo en que eso no se sepa. Solo estamos **complicando** un poco más lo que un atacante tiene que hacer (va a tener que probar más cosas, adivinar, etc)."
   ]
  },
  {
   "cell_type": "markdown",
   "metadata": {
    "slideshow": {
     "slide_type": "subslide"
    }
   },
   "source": [
    "Almacenamiento de secrets\n",
    "============================="
   ]
  },
  {
   "cell_type": "markdown",
   "metadata": {
    "slideshow": {
     "slide_type": "fragment"
    }
   },
   "source": [
    "Nuestro código va a tener que usar data secreta:\n",
    "\n",
    "- Tokens de OAuth\n",
    "- Semillas para los algoritmos de hashing\n",
    "- Usuario y password de la base de datos\n",
    "- Usuario y password de la cuenta de mail usada para los correos del sitio\n",
    "- ..."
   ]
  },
  {
   "cell_type": "markdown",
   "metadata": {
    "slideshow": {
     "slide_type": "fragment"
    }
   },
   "source": [
    "Pero si alguien logra acceder al repo de código? O si el código lo estamos publicando como software libre??\n",
    "\n",
    "O si no queremos que los programadores puedan acceder a la data privada de los usuarios?? (ej: google y tus emails)"
   ]
  },
  {
   "cell_type": "markdown",
   "metadata": {
    "slideshow": {
     "slide_type": "fragment"
    }
   },
   "source": [
    "Por lo general, **no** es buena idea que esos datos secretos importantes estén guardados en el código."
   ]
  },
  {
   "cell_type": "markdown",
   "metadata": {
    "slideshow": {
     "slide_type": "subslide"
    }
   },
   "source": [
    "Solución\n",
    "------\n",
    "\n",
    "Hay herramientas específicas para administrar secrets en producción (especies de bases de datos para esa data sensible).\n",
    "\n",
    "Nuestro código usa valores por default falsos, que andan solo en desarrollo, pero intenta obtener datos del entorno de producción para reemplazarlos.\n",
    "\n",
    "Cuando corre en local, no ve esos datos, usa los valores por default.\n",
    "\n",
    "Cuando corre en producción, tiene acceso a esos datos, y usa esos valores reales."
   ]
  },
  {
   "cell_type": "markdown",
   "metadata": {
    "slideshow": {
     "slide_type": "subslide"
    }
   },
   "source": [
    "Ejemplo en Python y Django:\n",
    "\n",
    "```python\n",
    "import django_heroku\n",
    "\n",
    "DATABASES = {\n",
    "    'default': {\n",
    "        'ENGINE': 'django.db.backends.sqlite3',\n",
    "        'NAME': os.path.join(BASE_DIR, 'db.sqlite3'),\n",
    "    }\n",
    "}\n",
    "\n",
    "django_heroku.settings(locals())\n",
    "```"
   ]
  },
  {
   "cell_type": "markdown",
   "metadata": {
    "slideshow": {
     "slide_type": "fragment"
    }
   },
   "source": [
    "En mi notebook de desarrollo, la base de datos es un archivo sqlite. En producción, la función `django_heroku.settings()` lee los datos de conexión reales de Heroku, y reemplaza el valor de la setting `DATABASES`."
   ]
  }
 ],
 "metadata": {
  "celltoolbar": "Slideshow",
  "kernelspec": {
   "display_name": "Python 3",
   "language": "python",
   "name": "python3"
  },
  "language_info": {
   "codemirror_mode": {
    "name": "ipython",
    "version": 3
   },
   "file_extension": ".py",
   "mimetype": "text/x-python",
   "name": "python",
   "nbconvert_exporter": "python",
   "pygments_lexer": "ipython3",
   "version": "3.7.5"
  }
 },
 "nbformat": 4,
 "nbformat_minor": 2
}
