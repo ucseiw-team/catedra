{
 "cells": [
  {
   "cell_type": "markdown",
   "metadata": {
    "slideshow": {
     "slide_type": "slide"
    }
   },
   "source": [
    "Redes Sociales y OAuth\n",
    "=================\n",
    "\n",
    "Ingeniería Web, 2019"
   ]
  },
  {
   "cell_type": "markdown",
   "metadata": {
    "slideshow": {
     "slide_type": "subslide"
    }
   },
   "source": [
    "Para qué integrarnos con redes sociales??\n",
    "======================="
   ]
  },
  {
   "cell_type": "markdown",
   "metadata": {
    "slideshow": {
     "slide_type": "subslide"
    }
   },
   "source": [
    "**Login**\n",
    "\n",
    "- Delegar la autenticación de personas reales, dificultad de cuentas fake.\n",
    "- Facilitar el login, evitar tener que crear mil cuentas para mil sitios."
   ]
  },
  {
   "cell_type": "markdown",
   "metadata": {
    "slideshow": {
     "slide_type": "subslide"
    }
   },
   "source": [
    "**Taer datos**\n",
    "\n",
    "- Facilitar tener un perfil de gustos y datos personales, sin pedirle explícitamente al usuario que los cargue todos nuevamente en nuestro sitio.\n",
    "- Facilitar la conexión de usuarios dentro de nuestro sitio: utilizar relaciones de amistad del otro sitio, para sugerir amigos en nuestro sitio (o filtrar contenido, etc).\n",
    "- Otras features específicas que faciliten la vida del usuario. Ej: permitirle importar fotos a un post que está armando, etc."
   ]
  },
  {
   "cell_type": "markdown",
   "metadata": {
    "slideshow": {
     "slide_type": "subslide"
    }
   },
   "source": [
    "**Postear datos**\n",
    "\n",
    "- Difundir contenido de nuestro sitio en redes sociales ya establecidas, generar tráfico hacia nuestro sitio.\n",
    "- Otras features específicas que le faciliten la vida al usuario. Ej: avisar a amigos sobre un evento organizado, etc."
   ]
  },
  {
   "cell_type": "markdown",
   "metadata": {
    "slideshow": {
     "slide_type": "subslide"
    }
   },
   "source": [
    "Cómo nos integramos??\n",
    "====================="
   ]
  },
  {
   "cell_type": "markdown",
   "metadata": {
    "slideshow": {
     "slide_type": "fragment"
    }
   },
   "source": [
    "El estándar hoy en día es **OAuth**."
   ]
  },
  {
   "cell_type": "markdown",
   "metadata": {
    "slideshow": {
     "slide_type": "fragment"
    }
   },
   "source": [
    "Vamos a usar como ejemplo: MiSitioX (un sitio sobre letras X), y Twitter.com. \n",
    "\n",
    "Nosotros desarrollamos MiSitioX, y queremos poder ver los contactos de la cuenta de Twitter del usuario. "
   ]
  },
  {
   "cell_type": "markdown",
   "metadata": {
    "slideshow": {
     "slide_type": "subslide"
    }
   },
   "source": [
    "La vida antes de OAuth\n",
    "==================="
   ]
  },
  {
   "cell_type": "markdown",
   "metadata": {
    "slideshow": {
     "slide_type": "fragment"
    }
   },
   "source": [
    "Si yo, desarrollador de MiSitioX, quería poder ver los contactos de Twitter del usuario, él me tenía que dar su usuario y password de Twitter...\n",
    "\n",
    "Una locura de seguridad!"
   ]
  },
  {
   "cell_type": "markdown",
   "metadata": {
    "slideshow": {
     "slide_type": "fragment"
    }
   },
   "source": [
    "- Yo, dueño del sitio, podía entrar, espiar o hasta robar las cuentas de Twitter de mis usuarios.\n",
    "- Un hacker que acceda a mi db también!!!\n",
    "- El usuario no podía decidir qué cosas yo podía ver o no de su cuenta. No solo puedo ver sus contactos, puedo ver sus mensajes privados!!\n",
    "- El usuario no podía decidir qué cosas yo hacer o no con su cuenta. No solo puedo ver cosas, puedo postear tweets con su cuenta y mandar mensajes privados!!"
   ]
  },
  {
   "cell_type": "markdown",
   "metadata": {
    "slideshow": {
     "slide_type": "subslide"
    }
   },
   "source": [
    "OAuth\n",
    "====="
   ]
  },
  {
   "cell_type": "markdown",
   "metadata": {
    "slideshow": {
     "slide_type": "fragment"
    }
   },
   "source": [
    "Un protocolo que permite identificarse y realizar acciones desde mi sitio hacia otro, sin que los uaurios me tengan que regalar sus cuentas."
   ]
  },
  {
   "cell_type": "markdown",
   "metadata": {
    "slideshow": {
     "slide_type": "fragment"
    }
   },
   "source": [
    "Cómo? En pocas palabras, siguiendo con MiSitioX vs Twitter:\n",
    "\n",
    "1. MiSitioX le pide a Twitter que le pida al usuario permiso para usar su cuenta y hacer un grupo de acciones específicas (ej: ver sus contactos).\n",
    "2. Twitter le pregunta al usuario: \"MiSitioX quiere ver tus contactos de tu cuenta de Twitter, se lo permitís?\"\n",
    "3. El usuario acepta o rechaza. Si rechaza, no sucede nada, ningún tipo de dato llega a MiSitioX.\n",
    "4. Si acepta, Twitter genera un token que es enviado a MiSitioX, y además Twitter guarda ese token en su db.\n",
    "5. MiSitioX puede ahora hacerle requests a Twitter diciéndole \"quiero ver los contactos de Fisa, y este es el token que me lo permite\".\n",
    "6. Si Twitter reconoce el token, realiza la acción. Si no, la rechaza."
   ]
  },
  {
   "cell_type": "markdown",
   "metadata": {
    "slideshow": {
     "slide_type": "subslide"
    }
   },
   "source": [
    "Algunos detalles extras:\n",
    "\n",
    "- MiSitioX también necesita un token \"global\", que le dice a Twitter qué sitio de terceros es. Ese token se genera desde un panel de control de Twitter para desarrolladores que quieran integrar sus sitios.\n",
    "- Toda la danza de intercambio de tokens normalmente se realiza mediante redirects (MiSitioX redirecciona a twitter.com en el paso 1, twitter.com redirecciona a MiSitioX en el paso 4).\n",
    "- Si en el paso 1 el usuario no estaba logueado en twitter.com, es Twitter el que le pide loguearse y valida el login, nosotros ni nos enteramos."
   ]
  },
  {
   "cell_type": "markdown",
   "metadata": {
    "slideshow": {
     "slide_type": "subslide"
    }
   },
   "source": [
    "Las ventajas de OAuth\n",
    "=================="
   ]
  },
  {
   "cell_type": "markdown",
   "metadata": {
    "slideshow": {
     "slide_type": "fragment"
    }
   },
   "source": [
    "- El usuario nunca nos da su password!! No tenemos posibilidad de robarle la cuenta ni nada por el estilo.\n",
    "- El usuario puede elegir qué permisos darnos! Ya no nos da control absoluto si quería permitirnos solo una cosa.\n",
    "- Si en algún momento el usuario deja de confiara en nosotros, no tiene que cambiar su password ni nada por el estilo. Solo va a twitter.com, a la sección de aplicaciones autorizadas, y nos da de baja (Twitter entonces deja de aceptar el token que nos había dado para ese usuario).\n",
    "- Si se descubre que una app está haciendo cosas maliciosas, es super simple para Twitter dejar a la app completamente afuera: da de baja su token global y listo."
   ]
  },
  {
   "cell_type": "markdown",
   "metadata": {
    "slideshow": {
     "slide_type": "subslide"
    }
   },
   "source": [
    "Las danza de OAuth\n",
    "=================="
   ]
  },
  {
   "cell_type": "markdown",
   "metadata": {
    "slideshow": {
     "slide_type": "fragment"
    }
   },
   "source": [
    "El flujo para implementar OAuth es bastante complejo!\n",
    "\n",
    "Muchos redirects, con generación y guardado de tokens, vistas para recibir los tokens cuando vuelven, etc.\n",
    "\n",
    "No esperamos que lo sepan de memoria."
   ]
  },
  {
   "cell_type": "markdown",
   "metadata": {
    "slideshow": {
     "slide_type": "fragment"
    }
   },
   "source": [
    "**No lo escriban a mano**.\n",
    "\n",
    "En todos los lenguajes ya hay libs que lo hacen, y solo requieren que configuremos nuestro token global y algunos detalles."
   ]
  },
  {
   "cell_type": "markdown",
   "metadata": {
    "slideshow": {
     "slide_type": "subslide"
    }
   },
   "source": [
    "Siempre va a hacer falta darnos de alta en la red social o sitio que queramos conectar, para tener el token global que tenemos que configurar en las libs.\n",
    "\n",
    "A veces puede que nos pidan alguna config extra, como el dominio de nuestro sitio."
   ]
  },
  {
   "cell_type": "markdown",
   "metadata": {
    "slideshow": {
     "slide_type": "fragment"
    }
   },
   "source": [
    "**Ese token es secreto!**\n",
    "\n",
    "No debería estar en repos públicos. De hecho, twitter y otros escanean constantemente GitHub y banean a los tokens que encuentren ahí."
   ]
  }
 ],
 "metadata": {
  "celltoolbar": "Slideshow",
  "kernelspec": {
   "display_name": "Python 3",
   "language": "python",
   "name": "python3"
  },
  "language_info": {
   "codemirror_mode": {
    "name": "ipython",
    "version": 3
   },
   "file_extension": ".py",
   "mimetype": "text/x-python",
   "name": "python",
   "nbconvert_exporter": "python",
   "pygments_lexer": "ipython3",
   "version": "3.7.3"
  }
 },
 "nbformat": 4,
 "nbformat_minor": 2
}
